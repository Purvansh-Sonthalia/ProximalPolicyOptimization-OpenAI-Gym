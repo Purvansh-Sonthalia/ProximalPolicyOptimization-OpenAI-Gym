{
 "cells": [
  {
   "cell_type": "code",
   "execution_count": 6,
   "metadata": {},
   "outputs": [],
   "source": [
    "import pygame\n",
    "import threading\n",
    "import gymnasium as gym\n",
    "import torch.nn.functional as F\n",
    "import torch\n",
    "from torch.distributions import Categorical"
   ]
  },
  {
   "cell_type": "code",
   "execution_count": 5,
   "metadata": {},
   "outputs": [],
   "source": [
    "class Display:\n",
    "    def __init__(self, env):\n",
    "        self.env = env\n",
    "        self.screen = None\n",
    "        self.clock = pygame.time.Clock()\n",
    "        self.is_running = False\n",
    "        self.display_thread = None\n",
    "\n",
    "    def initialize_display(self):\n",
    "        self.env.reset()\n",
    "        # Get the environment rendering size\n",
    "        render_size = self.env.render().shape[1::-1]\n",
    "\n",
    "        pygame.init()\n",
    "        self.screen = pygame.display.set_mode(render_size)\n",
    "        pygame.display.set_caption(\"Environment Display\")\n",
    "        self.is_running = True\n",
    "\n",
    "    def display_loop(self):\n",
    "        self.initialize_display()\n",
    "\n",
    "        while self.is_running:\n",
    "            for event in pygame.event.get():\n",
    "                if event.type == pygame.QUIT:\n",
    "                    self.is_running = False\n",
    "\n",
    "            # Get the environment rendering\n",
    "            rendered_frame = self.env.render()\n",
    "\n",
    "            # Convert the frame to a Pygame surface\n",
    "            frame_surface = pygame.surfarray.make_surface(rendered_frame.swapaxes(0, 1))\n",
    "\n",
    "            # Display the frame on the screen\n",
    "            self.screen.blit(frame_surface, (0, 0))\n",
    "            pygame.display.flip()\n",
    "\n",
    "            # Limit the frame rate\n",
    "            self.clock.tick(30)\n",
    "\n",
    "        pygame.quit()\n",
    "\n",
    "    def start_display_thread(self):\n",
    "        self.display_thread = threading.Thread(target=self.display_loop)\n",
    "        self.display_thread.start()\n",
    "\n",
    "    def join_display_thread(self):\n",
    "        if self.display_thread is not None and self.display_thread.is_alive():\n",
    "            self.display_thread.join()"
   ]
  },
  {
   "cell_type": "code",
   "execution_count": 6,
   "metadata": {},
   "outputs": [],
   "source": [
    "# Example usage with the LunarLander environment\n",
    "lunar_lander_env = gym.make('LunarLander-v2',render_mode='rgb_array')\n",
    "display = Display(lunar_lander_env)\n",
    "# Start the display in a new thread\n",
    "display.start_display_thread()\n",
    "# Continue with other tasks, e.g., interacting with the environment\n",
    "# ...\n",
    "# Wait for the display thread to finish\n",
    "display.join_display_thread()"
   ]
  },
  {
   "cell_type": "code",
   "execution_count": 10,
   "metadata": {},
   "outputs": [
    {
     "name": "stdout",
     "output_type": "stream",
     "text": [
      "tensor([[-0.2185,  0.7709, -0.3901, -0.2150, -0.1516,  0.0532, -0.7860],\n",
      "        [ 1.4378,  2.2149, -1.6656, -0.2960, -1.5264,  1.2136, -0.5608],\n",
      "        [-1.5065,  0.6141, -0.6813,  0.8452, -0.9935,  0.3178,  1.2464],\n",
      "        [-0.4298,  0.4591, -0.0485, -0.7450,  0.2609,  1.7190,  1.5103],\n",
      "        [ 0.7857, -0.9246, -1.6470,  0.7054,  2.2700, -0.5954, -0.2216]])\n",
      "tensor([[0.1179, 0.3170, 0.0993, 0.1183, 0.1260, 0.1547, 0.0668],\n",
      "        [0.2282, 0.4963, 0.0102, 0.0403, 0.0118, 0.1823, 0.0309],\n",
      "        [0.0219, 0.1825, 0.0500, 0.2299, 0.0366, 0.1357, 0.3434],\n",
      "        [0.0432, 0.1050, 0.0632, 0.0315, 0.0862, 0.3703, 0.3006],\n",
      "        [0.1385, 0.0250, 0.0122, 0.1278, 0.6111, 0.0348, 0.0506]])\n",
      "Categorical(probs: torch.Size([5, 7]))\n"
     ]
    }
   ],
   "source": [
    "logits = torch.randn(5,7)\n",
    "actions = torch.randn(5,7)\n",
    "new_policy = F.softmax(logits, dim=1)\n",
    "new_m = Categorical(new_policy)\n",
    "#new_log_policy = new_m.log_prob(actions)\n",
    "print(logits)\n",
    "print(new_policy)\n",
    "print(new_m)\n",
    "#print(new_log_policy)"
   ]
  }
 ],
 "metadata": {
  "kernelspec": {
   "display_name": "Python 3",
   "language": "python",
   "name": "python3"
  },
  "language_info": {
   "codemirror_mode": {
    "name": "ipython",
    "version": 3
   },
   "file_extension": ".py",
   "mimetype": "text/x-python",
   "name": "python",
   "nbconvert_exporter": "python",
   "pygments_lexer": "ipython3",
   "version": "3.10.9"
  },
  "orig_nbformat": 4
 },
 "nbformat": 4,
 "nbformat_minor": 2
}
